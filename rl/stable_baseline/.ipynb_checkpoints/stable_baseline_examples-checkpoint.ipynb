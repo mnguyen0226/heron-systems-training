{
 "cells": [
  {
   "cell_type": "markdown",
   "id": "9db35cce",
   "metadata": {},
   "source": [
    "## Stable_baseline PPO CartPole\n",
    "- SB3 Documentation: https://stable-baselines3.readthedocs.io/en/master/guide/install.html\n",
    "- SB3 Blog: https://araffin.github.io/#projects\n",
    "- SB - Tensorflow: https://stable-baselines.readthedocs.io/en/master/guide/install.html\n",
    "- SB Blog Medium: https://towardsdatascience.com/stable-baselines-a-fork-of-openai-baselines-reinforcement-learning-made-easy-df87c4b2fc82\n",
    "- SB3 Tutorials: https://github.com/araffin/rl-tutorial-jnrr19/tree/sb3"
   ]
  },
  {
   "cell_type": "code",
   "execution_count": null,
   "id": "c5922672",
   "metadata": {},
   "outputs": [],
   "source": [
    "!pip --version"
   ]
  },
  {
   "cell_type": "code",
   "execution_count": 6,
   "id": "87e8fd55",
   "metadata": {},
   "outputs": [
    {
     "name": "stdout",
     "output_type": "stream",
     "text": [
      "Requirement already satisfied: stable-baselines3[extra] in c:\\users\\nguye\\anaconda3\\lib\\site-packages (1.0)\n",
      "Requirement already satisfied: gym>=0.17 in c:\\users\\nguye\\anaconda3\\lib\\site-packages (from stable-baselines3[extra]) (0.18.3)\n",
      "Requirement already satisfied: cloudpickle in c:\\users\\nguye\\anaconda3\\lib\\site-packages (from stable-baselines3[extra]) (1.6.0)\n",
      "Requirement already satisfied: matplotlib in c:\\users\\nguye\\anaconda3\\lib\\site-packages (from stable-baselines3[extra]) (3.3.4)\n",
      "Requirement already satisfied: pandas in c:\\users\\nguye\\anaconda3\\lib\\site-packages (from stable-baselines3[extra]) (1.2.4)\n",
      "Requirement already satisfied: torch>=1.4.0 in c:\\users\\nguye\\anaconda3\\lib\\site-packages (from stable-baselines3[extra]) (1.8.1)\n",
      "Requirement already satisfied: numpy in c:\\users\\nguye\\anaconda3\\lib\\site-packages (from stable-baselines3[extra]) (1.19.5)\n",
      "Requirement already satisfied: opencv-python in c:\\users\\nguye\\anaconda3\\lib\\site-packages (from stable-baselines3[extra]) (4.5.2.54)\n",
      "Requirement already satisfied: psutil in c:\\users\\nguye\\anaconda3\\lib\\site-packages (from stable-baselines3[extra]) (5.8.0)\n",
      "Requirement already satisfied: atari-py~=0.2.0 in c:\\users\\nguye\\anaconda3\\lib\\site-packages (from stable-baselines3[extra]) (0.2.9)\n",
      "Requirement already satisfied: tensorboard>=2.2.0 in c:\\users\\nguye\\anaconda3\\lib\\site-packages (from stable-baselines3[extra]) (2.4.1)\n",
      "Requirement already satisfied: pillow in c:\\users\\nguye\\anaconda3\\lib\\site-packages (from stable-baselines3[extra]) (8.2.0)\n",
      "Requirement already satisfied: six in c:\\users\\nguye\\anaconda3\\lib\\site-packages (from atari-py~=0.2.0->stable-baselines3[extra]) (1.15.0)\n",
      "Requirement already satisfied: scipy in c:\\users\\nguye\\anaconda3\\lib\\site-packages (from gym>=0.17->stable-baselines3[extra]) (1.6.2)\n",
      "Requirement already satisfied: pyglet<=1.5.15,>=1.4.0 in c:\\users\\nguye\\anaconda3\\lib\\site-packages (from gym>=0.17->stable-baselines3[extra]) (1.5.15)\n",
      "Requirement already satisfied: setuptools>=41.0.0 in c:\\users\\nguye\\anaconda3\\lib\\site-packages (from tensorboard>=2.2.0->stable-baselines3[extra]) (52.0.0.post20210125)\n",
      "Requirement already satisfied: google-auth<2,>=1.6.3 in c:\\users\\nguye\\anaconda3\\lib\\site-packages (from tensorboard>=2.2.0->stable-baselines3[extra]) (1.21.3)\n",
      "Requirement already satisfied: protobuf>=3.6.0 in c:\\users\\nguye\\anaconda3\\lib\\site-packages (from tensorboard>=2.2.0->stable-baselines3[extra]) (3.17.2)\n",
      "Requirement already satisfied: requests<3,>=2.21.0 in c:\\users\\nguye\\anaconda3\\lib\\site-packages (from tensorboard>=2.2.0->stable-baselines3[extra]) (2.25.1)\n",
      "Requirement already satisfied: werkzeug>=0.11.15 in c:\\users\\nguye\\anaconda3\\lib\\site-packages (from tensorboard>=2.2.0->stable-baselines3[extra]) (1.0.1)\n",
      "Requirement already satisfied: tensorboard-plugin-wit>=1.6.0 in c:\\users\\nguye\\anaconda3\\lib\\site-packages (from tensorboard>=2.2.0->stable-baselines3[extra]) (1.8.0)\n",
      "Requirement already satisfied: google-auth-oauthlib<0.5,>=0.4.1 in c:\\users\\nguye\\anaconda3\\lib\\site-packages (from tensorboard>=2.2.0->stable-baselines3[extra]) (0.4.1)\n",
      "Requirement already satisfied: wheel>=0.26 in c:\\users\\nguye\\anaconda3\\lib\\site-packages (from tensorboard>=2.2.0->stable-baselines3[extra]) (0.36.2)\n",
      "Requirement already satisfied: absl-py>=0.4 in c:\\users\\nguye\\anaconda3\\lib\\site-packages (from tensorboard>=2.2.0->stable-baselines3[extra]) (0.12.0)\n",
      "Requirement already satisfied: markdown>=2.6.8 in c:\\users\\nguye\\anaconda3\\lib\\site-packages (from tensorboard>=2.2.0->stable-baselines3[extra]) (3.3.4)\n",
      "Requirement already satisfied: grpcio>=1.24.3 in c:\\users\\nguye\\anaconda3\\lib\\site-packages (from tensorboard>=2.2.0->stable-baselines3[extra]) (1.38.0)\n",
      "Requirement already satisfied: pyasn1-modules>=0.2.1 in c:\\users\\nguye\\anaconda3\\lib\\site-packages (from google-auth<2,>=1.6.3->tensorboard>=2.2.0->stable-baselines3[extra]) (0.2.7)\n",
      "Requirement already satisfied: rsa<5,>=3.1.4 in c:\\users\\nguye\\anaconda3\\lib\\site-packages (from google-auth<2,>=1.6.3->tensorboard>=2.2.0->stable-baselines3[extra]) (4.7.2)\n",
      "Requirement already satisfied: cachetools<5.0,>=2.0.0 in c:\\users\\nguye\\anaconda3\\lib\\site-packages (from google-auth<2,>=1.6.3->tensorboard>=2.2.0->stable-baselines3[extra]) (4.2.2)\n",
      "Requirement already satisfied: requests-oauthlib>=0.7.0 in c:\\users\\nguye\\anaconda3\\lib\\site-packages (from google-auth-oauthlib<0.5,>=0.4.1->tensorboard>=2.2.0->stable-baselines3[extra]) (1.3.0)\n",
      "Requirement already satisfied: pyasn1<0.5.0,>=0.4.6 in c:\\users\\nguye\\anaconda3\\lib\\site-packages (from pyasn1-modules>=0.2.1->google-auth<2,>=1.6.3->tensorboard>=2.2.0->stable-baselines3[extra]) (0.4.8)\n",
      "Requirement already satisfied: urllib3<1.27,>=1.21.1 in c:\\users\\nguye\\anaconda3\\lib\\site-packages (from requests<3,>=2.21.0->tensorboard>=2.2.0->stable-baselines3[extra]) (1.26.4)\n",
      "Requirement already satisfied: idna<3,>=2.5 in c:\\users\\nguye\\anaconda3\\lib\\site-packages (from requests<3,>=2.21.0->tensorboard>=2.2.0->stable-baselines3[extra]) (2.10)\n",
      "Requirement already satisfied: certifi>=2017.4.17 in c:\\users\\nguye\\anaconda3\\lib\\site-packages (from requests<3,>=2.21.0->tensorboard>=2.2.0->stable-baselines3[extra]) (2020.12.5)\n",
      "Requirement already satisfied: chardet<5,>=3.0.2 in c:\\users\\nguye\\anaconda3\\lib\\site-packages (from requests<3,>=2.21.0->tensorboard>=2.2.0->stable-baselines3[extra]) (4.0.0)\n",
      "Requirement already satisfied: oauthlib>=3.0.0 in c:\\users\\nguye\\anaconda3\\lib\\site-packages (from requests-oauthlib>=0.7.0->google-auth-oauthlib<0.5,>=0.4.1->tensorboard>=2.2.0->stable-baselines3[extra]) (3.1.1)\n",
      "Requirement already satisfied: typing_extensions in c:\\users\\nguye\\anaconda3\\lib\\site-packages (from torch>=1.4.0->stable-baselines3[extra]) (3.7.4.3)\n",
      "Requirement already satisfied: kiwisolver>=1.0.1 in c:\\users\\nguye\\anaconda3\\lib\\site-packages (from matplotlib->stable-baselines3[extra]) (1.3.1)\n",
      "Requirement already satisfied: python-dateutil>=2.1 in c:\\users\\nguye\\anaconda3\\lib\\site-packages (from matplotlib->stable-baselines3[extra]) (2.8.1)\n",
      "Requirement already satisfied: pyparsing!=2.0.4,!=2.1.2,!=2.1.6,>=2.0.3 in c:\\users\\nguye\\anaconda3\\lib\\site-packages (from matplotlib->stable-baselines3[extra]) (2.4.7)\n",
      "Requirement already satisfied: cycler>=0.10 in c:\\users\\nguye\\anaconda3\\lib\\site-packages (from matplotlib->stable-baselines3[extra]) (0.10.0)\n",
      "Requirement already satisfied: pytz>=2017.3 in c:\\users\\nguye\\anaconda3\\lib\\site-packages (from pandas->stable-baselines3[extra]) (2021.1)\n",
      "Note: you may need to restart the kernel to use updated packages.\n"
     ]
    }
   ],
   "source": [
    "pip install stable-baselines3[extra]"
   ]
  },
  {
   "cell_type": "code",
   "execution_count": null,
   "id": "cf325751",
   "metadata": {},
   "outputs": [],
   "source": [
    "import gym\n",
    "\n",
    "from stable_baselines3 import A2C\n",
    "\n",
    "env = gym.make(\"CartPole-v1\")\n",
    "\n",
    "model = A2C(\"MlpPolicy\", env, verbose=1)\n",
    "model.learn(total_timesteps=10000)\n",
    "\n",
    "obs = env.reset()\n",
    "for i in range(100):\n",
    "    action, _state = model.predict(obs, deterministic = True)\n",
    "    obs, reward, done, info = env.step(action)\n",
    "    env.render()\n",
    "    if done:\n",
    "        obs = env.reset()"
   ]
  },
  {
   "cell_type": "markdown",
   "id": "3aa42fd1",
   "metadata": {},
   "source": [
    "## DQN on Lunar Lander\n",
    "- https://stable-baselines3.readthedocs.io/en/master/guide/examples.html\n",
    "- Issue with swig :("
   ]
  },
  {
   "cell_type": "code",
   "execution_count": null,
   "id": "4718880c",
   "metadata": {},
   "outputs": [],
   "source": [
    "!apt install swig cmake\n",
    "!pip install stable-baselines3[extra] box2d box2d-kengz"
   ]
  },
  {
   "cell_type": "code",
   "execution_count": null,
   "id": "2516d039",
   "metadata": {},
   "outputs": [],
   "source": [
    "# import gym\n",
    "# from stable_baselines3 import DQN\n",
    "# from stable_baselines3.common.evaluation import evaluate_policy\n",
    "\n",
    "# # Create environment\n",
    "# env = gym.make(\"LunarLander-v2\")\n",
    "\n",
    "# # Instantiate the agent\n",
    "# model = DQN(\"MlpPolicy\", env ,verbose=1)\n",
    "\n",
    "# # Train the agent\n",
    "# model.learn(total_timesteps=int(2e5))\n",
    "\n",
    "# # Save the agent\n",
    "# model.save(\"trained_dqn_lunar\")\n",
    "\n",
    "# # Delete trained model to demonstrate loading\n",
    "# del model \n",
    "\n",
    "# # Load the trained agent\n",
    "# model = DQN.load(\"dqn_lunar\", env=env)\n",
    "\n",
    "# # Evaluate the agent:\n",
    "# # Note: if you use wrappers with your environment that modify rewards, this will be reflected here.\n",
    "# # To evaluate with original rewards, wrap environment in a \"Monitor\" wrapped before other wrappers\n",
    "# mean_reward, std_reward = evaluate_policy(model, model.get_env(), n_eval_episodes=10)\n",
    "\n",
    "# # Enjoy trained agent\n",
    "# obs = env.reset()\n",
    "# for i in range(1000):\n",
    "#     action, _state = model.predict(obs, deterministic=True)\n",
    "#     obs, rewards, dones, info = env.step(action)\n",
    "#     env.render()"
   ]
  },
  {
   "cell_type": "markdown",
   "id": "351758df",
   "metadata": {},
   "source": [
    "## Multiprocessing: Unleashing the Power of Vectorized Environments\n",
    "- CartPole\n",
    "- This is not stable on Jupyter Notebook, do it on local machine"
   ]
  },
  {
   "cell_type": "code",
   "execution_count": null,
   "id": "7282b055",
   "metadata": {},
   "outputs": [],
   "source": [
    "import gym\n",
    "import numpy as np\n",
    "from stable_baselines3 import PPO\n",
    "from stable_baselines3.common.vec_env import SubprocVecEnv\n",
    "from stable_baselines3.common.env_util import make_vec_env\n",
    "from stable_baselines3.common.utils import set_random_seed\n",
    "\n",
    "def make_env(env_id, rank, seed=0):\n",
    "    \"\"\"Utility function for multiprocessed env.\n",
    "    \n",
    "    Parameters\n",
    "    ----------\n",
    "    env_id: str\n",
    "        the environment ID\n",
    "    seed: int\n",
    "        initial seed for RNG\n",
    "    rank: int\n",
    "        index of the subprocess\n",
    "    \"\"\"\n",
    "    def _init():\n",
    "        env = gym.make(env_id)\n",
    "        env.seed(seed + rank)\n",
    "        return env\n",
    "    set_random_seed(seed)\n",
    "    return _init\n",
    "\n",
    "if __name__ == \"__main__\":\n",
    "    env_id = \"CartPole-v1\"\n",
    "    num_cpu = 4 # Number of processor to use\n",
    "    \n",
    "    # Create the vectorized environment\n",
    "    env = SubprocVecEnv([make_env(env_id, i) for i in range(num_cpu)])\n",
    "    \n",
    "    # SB provides you with make_vec_env() helper\n",
    "    # which does exactly the previous steps for you:\n",
    "    # env = make_vec_env(env_id, n_envs=num_cpu, seed=0)\n",
    "    \n",
    "    model = PPO(\"MlpPolicy\", env, verbose=1)\n",
    "    model.learn(total_timesteps = 25000)\n",
    "    \n",
    "    obs = env.reset()\n",
    "    for _ in range(1000):\n",
    "        action, _states = model.predict(obs)\n",
    "        obs, rewards, dones, info = env.step(action)\n",
    "        env.render()"
   ]
  },
  {
   "cell_type": "markdown",
   "id": "15b01e81",
   "metadata": {},
   "source": [
    "# HER = Hindsight Experience Replay"
   ]
  },
  {
   "cell_type": "code",
   "execution_count": 2,
   "id": "52f10bd2",
   "metadata": {},
   "outputs": [
    {
     "name": "stdout",
     "output_type": "stream",
     "text": [
      "Collecting highway-env\n",
      "  Downloading highway_env-1.2-py3-none-any.whl (92 kB)\n",
      "Collecting pygame\n",
      "  Downloading pygame-2.0.1-cp38-cp38-win_amd64.whl (5.2 MB)\n",
      "Requirement already satisfied: pandas in c:\\users\\nguye\\anaconda3\\lib\\site-packages (from highway-env) (1.2.4)\n",
      "Requirement already satisfied: matplotlib in c:\\users\\nguye\\anaconda3\\lib\\site-packages (from highway-env) (3.3.4)\n",
      "Requirement already satisfied: numpy in c:\\users\\nguye\\anaconda3\\lib\\site-packages (from highway-env) (1.19.5)\n",
      "Requirement already satisfied: gym in c:\\users\\nguye\\anaconda3\\lib\\site-packages (from highway-env) (0.18.3)\n",
      "Requirement already satisfied: cloudpickle<1.7.0,>=1.2.0 in c:\\users\\nguye\\anaconda3\\lib\\site-packages (from gym->highway-env) (1.6.0)\n",
      "Requirement already satisfied: Pillow<=8.2.0 in c:\\users\\nguye\\anaconda3\\lib\\site-packages (from gym->highway-env) (8.2.0)\n",
      "Requirement already satisfied: pyglet<=1.5.15,>=1.4.0 in c:\\users\\nguye\\anaconda3\\lib\\site-packages (from gym->highway-env) (1.5.15)\n",
      "Requirement already satisfied: scipy in c:\\users\\nguye\\anaconda3\\lib\\site-packages (from gym->highway-env) (1.6.2)\n",
      "Requirement already satisfied: python-dateutil>=2.1 in c:\\users\\nguye\\anaconda3\\lib\\site-packages (from matplotlib->highway-env) (2.8.1)\n",
      "Requirement already satisfied: kiwisolver>=1.0.1 in c:\\users\\nguye\\anaconda3\\lib\\site-packages (from matplotlib->highway-env) (1.3.1)\n",
      "Requirement already satisfied: pyparsing!=2.0.4,!=2.1.2,!=2.1.6,>=2.0.3 in c:\\users\\nguye\\anaconda3\\lib\\site-packages (from matplotlib->highway-env) (2.4.7)\n",
      "Requirement already satisfied: cycler>=0.10 in c:\\users\\nguye\\anaconda3\\lib\\site-packages (from matplotlib->highway-env) (0.10.0)\n",
      "Requirement already satisfied: six in c:\\users\\nguye\\anaconda3\\lib\\site-packages (from cycler>=0.10->matplotlib->highway-env) (1.15.0)\n",
      "Requirement already satisfied: pytz>=2017.3 in c:\\users\\nguye\\anaconda3\\lib\\site-packages (from pandas->highway-env) (2021.1)\n",
      "Installing collected packages: pygame, highway-env\n",
      "Successfully installed highway-env-1.2 pygame-2.0.1\n"
     ]
    }
   ],
   "source": [
    "!pip install highway-env"
   ]
  },
  {
   "cell_type": "code",
   "execution_count": 4,
   "id": "c120a988",
   "metadata": {},
   "outputs": [
    {
     "name": "stdout",
     "output_type": "stream",
     "text": [
      "Requirement already satisfied: stable-baselines3 in c:\\users\\nguye\\anaconda3\\lib\\site-packages (1.0)1.0\n",
      "Requirement already satisfied: numpy in c:\\users\\nguye\\anaconda3\\lib\\site-packages (from stable-baselines3) (1.19.5)\n",
      "Requirement already satisfied: pandas in c:\\users\\nguye\\anaconda3\\lib\\site-packages (from stable-baselines3) (1.2.4)\n",
      "Requirement already satisfied: torch>=1.4.0 in c:\\users\\nguye\\anaconda3\\lib\\site-packages (from stable-baselines3) (1.8.1)\n",
      "Requirement already satisfied: matplotlib in c:\\users\\nguye\\anaconda3\\lib\\site-packages (from stable-baselines3) (3.3.4)\n",
      "Requirement already satisfied: gym>=0.17 in c:\\users\\nguye\\anaconda3\\lib\\site-packages (from stable-baselines3) (0.18.3)\n",
      "Requirement already satisfied: cloudpickle in c:\\users\\nguye\\anaconda3\\lib\\site-packages (from stable-baselines3) (1.6.0)\n",
      "Requirement already satisfied: pyglet<=1.5.15,>=1.4.0 in c:\\users\\nguye\\anaconda3\\lib\\site-packages (from gym>=0.17->stable-baselines3) (1.5.15)\n",
      "Requirement already satisfied: scipy in c:\\users\\nguye\\anaconda3\\lib\\site-packages (from gym>=0.17->stable-baselines3) (1.6.2)\n",
      "Requirement already satisfied: Pillow<=8.2.0 in c:\\users\\nguye\\anaconda3\\lib\\site-packages (from gym>=0.17->stable-baselines3) (8.2.0)\n",
      "Requirement already satisfied: typing_extensions in c:\\users\\nguye\\anaconda3\\lib\\site-packages (from torch>=1.4.0->stable-baselines3) (3.7.4.3)\n",
      "Requirement already satisfied: python-dateutil>=2.1 in c:\\users\\nguye\\anaconda3\\lib\\site-packages (from matplotlib->stable-baselines3) (2.8.1)\n",
      "Requirement already satisfied: pyparsing!=2.0.4,!=2.1.2,!=2.1.6,>=2.0.3 in c:\\users\\nguye\\anaconda3\\lib\\site-packages (from matplotlib->stable-baselines3) (2.4.7)\n",
      "Requirement already satisfied: kiwisolver>=1.0.1 in c:\\users\\nguye\\anaconda3\\lib\\site-packages (from matplotlib->stable-baselines3) (1.3.1)\n",
      "Requirement already satisfied: cycler>=0.10 in c:\\users\\nguye\\anaconda3\\lib\\site-packages (from matplotlib->stable-baselines3) (0.10.0)\n",
      "Requirement already satisfied: six in c:\\users\\nguye\\anaconda3\\lib\\site-packages (from cycler>=0.10->matplotlib->stable-baselines3) (1.15.0)\n",
      "Requirement already satisfied: pytz>=2017.3 in c:\\users\\nguye\\anaconda3\\lib\\site-packages (from pandas->stable-baselines3) (2021.1)\n",
      "\n"
     ]
    }
   ],
   "source": [
    "!pip install --upgrade stable-baselines3\n",
    "import stable_baselines3 as sb3\n",
    "print(sb3.__version__)"
   ]
  },
  {
   "cell_type": "code",
   "execution_count": 10,
   "id": "e5038ae8",
   "metadata": {},
   "outputs": [
    {
     "ename": "ImportError",
     "evalue": "cannot import name 'HerReplayBuffer' from 'stable_baselines3' (C:\\Users\\nguye\\anaconda3\\lib\\site-packages\\stable_baselines3\\__init__.py)",
     "output_type": "error",
     "traceback": [
      "\u001b[1;31m---------------------------------------------------------------------------\u001b[0m",
      "\u001b[1;31mImportError\u001b[0m                               Traceback (most recent call last)",
      "\u001b[1;32m<ipython-input-10-8647681615ee>\u001b[0m in \u001b[0;36m<module>\u001b[1;34m\u001b[0m\n\u001b[0;32m      3\u001b[0m \u001b[1;32mimport\u001b[0m \u001b[0mnumpy\u001b[0m \u001b[1;32mas\u001b[0m \u001b[0mnp\u001b[0m\u001b[1;33m\u001b[0m\u001b[1;33m\u001b[0m\u001b[0m\n\u001b[0;32m      4\u001b[0m \u001b[1;33m\u001b[0m\u001b[0m\n\u001b[1;32m----> 5\u001b[1;33m \u001b[1;32mfrom\u001b[0m \u001b[0mstable_baselines3\u001b[0m \u001b[1;32mimport\u001b[0m \u001b[0mSAC\u001b[0m\u001b[1;33m,\u001b[0m \u001b[0mDDPG\u001b[0m\u001b[1;33m,\u001b[0m \u001b[0mTD3\u001b[0m\u001b[1;33m,\u001b[0m \u001b[0mHerReplayBuffer\u001b[0m\u001b[1;33m\u001b[0m\u001b[1;33m\u001b[0m\u001b[0m\n\u001b[0m\u001b[0;32m      6\u001b[0m \u001b[1;32mfrom\u001b[0m \u001b[0mstable_baselines3\u001b[0m\u001b[1;33m.\u001b[0m\u001b[0mcommon\u001b[0m\u001b[1;33m.\u001b[0m\u001b[0mnoise\u001b[0m \u001b[1;32mimport\u001b[0m \u001b[0mNormalActionNoise\u001b[0m\u001b[1;33m\u001b[0m\u001b[1;33m\u001b[0m\u001b[0m\n\u001b[0;32m      7\u001b[0m \u001b[1;33m\u001b[0m\u001b[0m\n",
      "\u001b[1;31mImportError\u001b[0m: cannot import name 'HerReplayBuffer' from 'stable_baselines3' (C:\\Users\\nguye\\anaconda3\\lib\\site-packages\\stable_baselines3\\__init__.py)"
     ]
    }
   ],
   "source": [
    "import gym\n",
    "import highway_env\n",
    "import numpy as np\n",
    "\n",
    "from stable_baselines3 import SAC, DDPG, TD3, HerReplayBuffer\n",
    "from stable_baselines3.common.noise import NormalActionNoise\n",
    "\n",
    "env = gym.make(\"parking-v0\")\n",
    "\n",
    "# Create 4 artificial transitions per real transition\n",
    "n_sampled_goal = 4\n",
    "\n",
    "# SAC hyperparams:\n",
    "model = SAC(\n",
    "    \"MultiInputPolicy\",\n",
    "    env,\n",
    "    replay_buffer_class=HerReplayBuffer,\n",
    "    replay_buffer_kwargs=dict(\n",
    "      n_sampled_goal=n_sampled_goal,\n",
    "      goal_selection_strategy=\"future\",\n",
    "      # IMPORTANT: because the env is not wrapped with a TimeLimit wrapper\n",
    "      # we have to manually specify the max number of steps per episode\n",
    "      max_episode_length=100,\n",
    "      online_sampling=True,\n",
    "    ),\n",
    "    verbose=1,\n",
    "    buffer_size=int(1e6),\n",
    "    learning_rate=1e-3,\n",
    "    gamma=0.95,\n",
    "    batch_size=256,\n",
    "    policy_kwargs=dict(net_arch=[256, 256, 256]),\n",
    ")\n",
    "\n",
    "model.learn(int(2e5))\n",
    "model.save(\"her_sac_highway\")\n",
    "\n",
    "# Load saved model\n",
    "# Because it needs access to `env.compute_reward()`\n",
    "# HER must be loaded with the env\n",
    "model = SAC.load(\"her_sac_highway\", env=env)\n",
    "\n",
    "obs = env.reset()\n",
    "\n",
    "# Evaluate the agent\n",
    "episode_reward = 0\n",
    "for _ in range(100):\n",
    "    action, _ = model.predict(obs, deterministic=True)\n",
    "    obs, reward, done, info = env.step(action)\n",
    "    env.render()\n",
    "    episode_reward += reward\n",
    "    if done or info.get(\"is_success\", False):\n",
    "        print(\"Reward:\", episode_reward, \"Success?\", info.get(\"is_success\", False))\n",
    "        episode_reward = 0.0\n",
    "        obs = env.reset()"
   ]
  },
  {
   "cell_type": "code",
   "execution_count": null,
   "id": "abc41bdf",
   "metadata": {},
   "outputs": [],
   "source": []
  },
  {
   "cell_type": "code",
   "execution_count": null,
   "id": "40c93945",
   "metadata": {},
   "outputs": [],
   "source": []
  }
 ],
 "metadata": {
  "kernelspec": {
   "display_name": "Python 3",
   "language": "python",
   "name": "python3"
  },
  "language_info": {
   "codemirror_mode": {
    "name": "ipython",
    "version": 3
   },
   "file_extension": ".py",
   "mimetype": "text/x-python",
   "name": "python",
   "nbconvert_exporter": "python",
   "pygments_lexer": "ipython3",
   "version": "3.8.8"
  }
 },
 "nbformat": 4,
 "nbformat_minor": 5
}
