{
 "cells": [
  {
   "cell_type": "markdown",
   "id": "ff4074e9",
   "metadata": {},
   "source": [
    "## Stable_baseline PPO CartPole\n",
    "- SB3 Documentation: https://stable-baselines3.readthedocs.io/en/master/guide/install.html\n",
    "- SB3 Blog: https://araffin.github.io/#projects\n",
    "- SB - Tensorflow: https://stable-baselines.readthedocs.io/en/master/guide/install.html\n",
    "- SB Blog Medium: https://towardsdatascience.com/stable-baselines-a-fork-of-openai-baselines-reinforcement-learning-made-easy-df87c4b2fc82"
   ]
  },
  {
   "cell_type": "code",
   "execution_count": null,
   "id": "cc5042d4",
   "metadata": {},
   "outputs": [],
   "source": [
    "!pip --version"
   ]
  },
  {
   "cell_type": "code",
   "execution_count": null,
   "id": "648ab2f5",
   "metadata": {},
   "outputs": [],
   "source": [
    "pip install stable-baselines3[extra]"
   ]
  },
  {
   "cell_type": "code",
   "execution_count": null,
   "id": "9b9aba90",
   "metadata": {},
   "outputs": [],
   "source": [
    "import gym\n",
    "\n",
    "from stable_baselines3 import A2C\n",
    "\n",
    "env = gym.make(\"CartPole-v1\")\n",
    "\n",
    "model = A2C(\"MlpPolicy\", env, verbose=1)\n",
    "model.learn(total_timesteps=10000)\n",
    "\n",
    "obs = env.reset()\n",
    "for i in range(100):\n",
    "    action, _state = model.predict(obs, deterministic = True)\n",
    "    obs, reward, done, info = env.step(action)\n",
    "    env.render()\n",
    "    if done:\n",
    "        obs = env.reset()"
   ]
  },
  {
   "cell_type": "markdown",
   "id": "f45552a7",
   "metadata": {},
   "source": [
    "## DQN on Lunar Lander\n",
    "- https://stable-baselines3.readthedocs.io/en/master/guide/examples.html\n",
    "- Issue with swig :("
   ]
  },
  {
   "cell_type": "code",
   "execution_count": 3,
   "id": "84272ec5",
   "metadata": {},
   "outputs": [
    {
     "name": "stderr",
     "output_type": "stream",
     "text": [
      "'apt' is not recognized as an internal or external command,\n",
      "operable program or batch file.\n"
     ]
    },
    {
     "name": "stdout",
     "output_type": "stream",
     "text": [
      "Requirement already satisfied: stable-baselines3[extra] in c:\\users\\nguye\\anaconda3\\lib\\site-packages (1.0)\n",
      "Collecting box2d\n",
      "  Using cached Box2D-2.3.10-cp38-cp38-win_amd64.whl (1.3 MB)\n",
      "Collecting box2d-kengz\n",
      "  Using cached Box2D-kengz-2.3.3.tar.gz (425 kB)\n",
      "Requirement already satisfied: pandas in c:\\users\\nguye\\anaconda3\\lib\\site-packages (from stable-baselines3[extra]) (1.2.4)\n",
      "Requirement already satisfied: torch>=1.4.0 in c:\\users\\nguye\\anaconda3\\lib\\site-packages (from stable-baselines3[extra]) (1.8.1)\n",
      "Requirement already satisfied: numpy in c:\\users\\nguye\\anaconda3\\lib\\site-packages (from stable-baselines3[extra]) (1.19.5)\n",
      "Requirement already satisfied: gym>=0.17 in c:\\users\\nguye\\anaconda3\\lib\\site-packages (from stable-baselines3[extra]) (0.18.3)\n",
      "Requirement already satisfied: matplotlib in c:\\users\\nguye\\anaconda3\\lib\\site-packages (from stable-baselines3[extra]) (3.3.4)\n",
      "Requirement already satisfied: cloudpickle in c:\\users\\nguye\\anaconda3\\lib\\site-packages (from stable-baselines3[extra]) (1.6.0)\n",
      "Requirement already satisfied: atari-py~=0.2.0 in c:\\users\\nguye\\anaconda3\\lib\\site-packages (from stable-baselines3[extra]) (0.2.9)\n",
      "Requirement already satisfied: pillow in c:\\users\\nguye\\anaconda3\\lib\\site-packages (from stable-baselines3[extra]) (8.2.0)\n",
      "Requirement already satisfied: psutil in c:\\users\\nguye\\anaconda3\\lib\\site-packages (from stable-baselines3[extra]) (5.8.0)\n",
      "Requirement already satisfied: tensorboard>=2.2.0 in c:\\users\\nguye\\anaconda3\\lib\\site-packages (from stable-baselines3[extra]) (2.4.1)\n",
      "Requirement already satisfied: opencv-python in c:\\users\\nguye\\anaconda3\\lib\\site-packages (from stable-baselines3[extra]) (4.5.2.54)\n",
      "Requirement already satisfied: six in c:\\users\\nguye\\anaconda3\\lib\\site-packages (from atari-py~=0.2.0->stable-baselines3[extra]) (1.15.0)\n",
      "Requirement already satisfied: scipy in c:\\users\\nguye\\anaconda3\\lib\\site-packages (from gym>=0.17->stable-baselines3[extra]) (1.6.2)\n",
      "Requirement already satisfied: pyglet<=1.5.15,>=1.4.0 in c:\\users\\nguye\\anaconda3\\lib\\site-packages (from gym>=0.17->stable-baselines3[extra]) (1.5.15)\n",
      "Requirement already satisfied: google-auth<2,>=1.6.3 in c:\\users\\nguye\\anaconda3\\lib\\site-packages (from tensorboard>=2.2.0->stable-baselines3[extra]) (1.21.3)\n",
      "Requirement already satisfied: requests<3,>=2.21.0 in c:\\users\\nguye\\anaconda3\\lib\\site-packages (from tensorboard>=2.2.0->stable-baselines3[extra]) (2.25.1)\n",
      "Requirement already satisfied: setuptools>=41.0.0 in c:\\users\\nguye\\anaconda3\\lib\\site-packages (from tensorboard>=2.2.0->stable-baselines3[extra]) (52.0.0.post20210125)\n",
      "Requirement already satisfied: grpcio>=1.24.3 in c:\\users\\nguye\\anaconda3\\lib\\site-packages (from tensorboard>=2.2.0->stable-baselines3[extra]) (1.38.0)\n",
      "Requirement already satisfied: tensorboard-plugin-wit>=1.6.0 in c:\\users\\nguye\\anaconda3\\lib\\site-packages (from tensorboard>=2.2.0->stable-baselines3[extra]) (1.8.0)\n",
      "Requirement already satisfied: markdown>=2.6.8 in c:\\users\\nguye\\anaconda3\\lib\\site-packages (from tensorboard>=2.2.0->stable-baselines3[extra]) (3.3.4)\n",
      "Requirement already satisfied: google-auth-oauthlib<0.5,>=0.4.1 in c:\\users\\nguye\\anaconda3\\lib\\site-packages (from tensorboard>=2.2.0->stable-baselines3[extra]) (0.4.1)\n",
      "Requirement already satisfied: absl-py>=0.4 in c:\\users\\nguye\\anaconda3\\lib\\site-packages (from tensorboard>=2.2.0->stable-baselines3[extra]) (0.12.0)\n",
      "Requirement already satisfied: werkzeug>=0.11.15 in c:\\users\\nguye\\anaconda3\\lib\\site-packages (from tensorboard>=2.2.0->stable-baselines3[extra]) (1.0.1)\n",
      "Requirement already satisfied: protobuf>=3.6.0 in c:\\users\\nguye\\anaconda3\\lib\\site-packages (from tensorboard>=2.2.0->stable-baselines3[extra]) (3.17.2)\n",
      "Requirement already satisfied: wheel>=0.26 in c:\\users\\nguye\\anaconda3\\lib\\site-packages (from tensorboard>=2.2.0->stable-baselines3[extra]) (0.36.2)\n",
      "Requirement already satisfied: pyasn1-modules>=0.2.1 in c:\\users\\nguye\\anaconda3\\lib\\site-packages (from google-auth<2,>=1.6.3->tensorboard>=2.2.0->stable-baselines3[extra]) (0.2.7)\n",
      "Requirement already satisfied: rsa<5,>=3.1.4 in c:\\users\\nguye\\anaconda3\\lib\\site-packages (from google-auth<2,>=1.6.3->tensorboard>=2.2.0->stable-baselines3[extra]) (4.7.2)\n",
      "Requirement already satisfied: cachetools<5.0,>=2.0.0 in c:\\users\\nguye\\anaconda3\\lib\\site-packages (from google-auth<2,>=1.6.3->tensorboard>=2.2.0->stable-baselines3[extra]) (4.2.2)\n",
      "Requirement already satisfied: requests-oauthlib>=0.7.0 in c:\\users\\nguye\\anaconda3\\lib\\site-packages (from google-auth-oauthlib<0.5,>=0.4.1->tensorboard>=2.2.0->stable-baselines3[extra]) (1.3.0)\n",
      "Requirement already satisfied: pyasn1<0.5.0,>=0.4.6 in c:\\users\\nguye\\anaconda3\\lib\\site-packages (from pyasn1-modules>=0.2.1->google-auth<2,>=1.6.3->tensorboard>=2.2.0->stable-baselines3[extra]) (0.4.8)\n",
      "Requirement already satisfied: chardet<5,>=3.0.2 in c:\\users\\nguye\\anaconda3\\lib\\site-packages (from requests<3,>=2.21.0->tensorboard>=2.2.0->stable-baselines3[extra]) (4.0.0)\n",
      "Requirement already satisfied: urllib3<1.27,>=1.21.1 in c:\\users\\nguye\\anaconda3\\lib\\site-packages (from requests<3,>=2.21.0->tensorboard>=2.2.0->stable-baselines3[extra]) (1.26.4)\n",
      "Requirement already satisfied: certifi>=2017.4.17 in c:\\users\\nguye\\anaconda3\\lib\\site-packages (from requests<3,>=2.21.0->tensorboard>=2.2.0->stable-baselines3[extra]) (2020.12.5)\n",
      "Requirement already satisfied: idna<3,>=2.5 in c:\\users\\nguye\\anaconda3\\lib\\site-packages (from requests<3,>=2.21.0->tensorboard>=2.2.0->stable-baselines3[extra]) (2.10)\n",
      "Requirement already satisfied: oauthlib>=3.0.0 in c:\\users\\nguye\\anaconda3\\lib\\site-packages (from requests-oauthlib>=0.7.0->google-auth-oauthlib<0.5,>=0.4.1->tensorboard>=2.2.0->stable-baselines3[extra]) (3.1.1)\n",
      "Requirement already satisfied: typing_extensions in c:\\users\\nguye\\anaconda3\\lib\\site-packages (from torch>=1.4.0->stable-baselines3[extra]) (3.7.4.3)\n",
      "Requirement already satisfied: pyparsing!=2.0.4,!=2.1.2,!=2.1.6,>=2.0.3 in c:\\users\\nguye\\anaconda3\\lib\\site-packages (from matplotlib->stable-baselines3[extra]) (2.4.7)\n",
      "Requirement already satisfied: python-dateutil>=2.1 in c:\\users\\nguye\\anaconda3\\lib\\site-packages (from matplotlib->stable-baselines3[extra]) (2.8.1)\n",
      "Requirement already satisfied: cycler>=0.10 in c:\\users\\nguye\\anaconda3\\lib\\site-packages (from matplotlib->stable-baselines3[extra]) (0.10.0)\n",
      "Requirement already satisfied: kiwisolver>=1.0.1 in c:\\users\\nguye\\anaconda3\\lib\\site-packages (from matplotlib->stable-baselines3[extra]) (1.3.1)\n",
      "Requirement already satisfied: pytz>=2017.3 in c:\\users\\nguye\\anaconda3\\lib\\site-packages (from pandas->stable-baselines3[extra]) (2021.1)\n",
      "Building wheels for collected packages: box2d-kengz\n",
      "  Building wheel for box2d-kengz (setup.py): started\n",
      "  Building wheel for box2d-kengz (setup.py): finished with status 'error'\n",
      "  Running setup.py clean for box2d-kengz\n",
      "Failed to build box2d-kengz\n",
      "Installing collected packages: box2d-kengz, box2d\n",
      "    Running setup.py install for box2d-kengz: started\n",
      "    Running setup.py install for box2d-kengz: finished with status 'error'\n"
     ]
    },
    {
     "name": "stderr",
     "output_type": "stream",
     "text": [
      "  ERROR: Command errored out with exit status 1:\n",
      "   command: 'C:\\Users\\nguye\\anaconda3\\python.exe' -u -c 'import sys, setuptools, tokenize; sys.argv[0] = '\"'\"'C:\\\\Users\\\\nguye\\\\AppData\\\\Local\\\\Temp\\\\pip-install-zpog85cw\\\\box2d-kengz_1cbf3d89e8e74ff2969550178c06a5fc\\\\setup.py'\"'\"'; __file__='\"'\"'C:\\\\Users\\\\nguye\\\\AppData\\\\Local\\\\Temp\\\\pip-install-zpog85cw\\\\box2d-kengz_1cbf3d89e8e74ff2969550178c06a5fc\\\\setup.py'\"'\"';f=getattr(tokenize, '\"'\"'open'\"'\"', open)(__file__);code=f.read().replace('\"'\"'\\r\\n'\"'\"', '\"'\"'\\n'\"'\"');f.close();exec(compile(code, __file__, '\"'\"'exec'\"'\"'))' bdist_wheel -d 'C:\\Users\\nguye\\AppData\\Local\\Temp\\pip-wheel-n0s6dkgb'\n",
      "       cwd: C:\\Users\\nguye\\AppData\\Local\\Temp\\pip-install-zpog85cw\\box2d-kengz_1cbf3d89e8e74ff2969550178c06a5fc\\\n",
      "  Complete output (16 lines):\n",
      "  Using setuptools (version 52.0.0.post20210125).\n",
      "  running bdist_wheel\n",
      "  running build\n",
      "  running build_py\n",
      "  creating build\n",
      "  creating build\\lib.win-amd64-3.8\n",
      "  creating build\\lib.win-amd64-3.8\\Box2D\n",
      "  copying library\\Box2D\\Box2D.py -> build\\lib.win-amd64-3.8\\Box2D\n",
      "  copying library\\Box2D\\__init__.py -> build\\lib.win-amd64-3.8\\Box2D\n",
      "  creating build\\lib.win-amd64-3.8\\Box2D\\b2\n",
      "  copying library\\Box2D\\b2\\__init__.py -> build\\lib.win-amd64-3.8\\Box2D\\b2\n",
      "  running build_ext\n",
      "  building 'Box2D._Box2D' extension\n",
      "  swigging Box2D\\Box2D.i to Box2D\\Box2D_wrap.cpp\n",
      "  swig.exe -python -c++ -IBox2D -small -O -includeall -ignoremissing -w201 -globals b2Globals -outdir library\\Box2D -keyword -w511 -D_SWIG_KWARGS -o Box2D\\Box2D_wrap.cpp Box2D\\Box2D.i\n",
      "  error: command 'swig.exe' failed: No such file or directory\n",
      "  ----------------------------------------\n",
      "  ERROR: Failed building wheel for box2d-kengz\n",
      "    ERROR: Command errored out with exit status 1:\n",
      "     command: 'C:\\Users\\nguye\\anaconda3\\python.exe' -u -c 'import sys, setuptools, tokenize; sys.argv[0] = '\"'\"'C:\\\\Users\\\\nguye\\\\AppData\\\\Local\\\\Temp\\\\pip-install-zpog85cw\\\\box2d-kengz_1cbf3d89e8e74ff2969550178c06a5fc\\\\setup.py'\"'\"'; __file__='\"'\"'C:\\\\Users\\\\nguye\\\\AppData\\\\Local\\\\Temp\\\\pip-install-zpog85cw\\\\box2d-kengz_1cbf3d89e8e74ff2969550178c06a5fc\\\\setup.py'\"'\"';f=getattr(tokenize, '\"'\"'open'\"'\"', open)(__file__);code=f.read().replace('\"'\"'\\r\\n'\"'\"', '\"'\"'\\n'\"'\"');f.close();exec(compile(code, __file__, '\"'\"'exec'\"'\"'))' install --record 'C:\\Users\\nguye\\AppData\\Local\\Temp\\pip-record-yan4iqlh\\install-record.txt' --single-version-externally-managed --compile --install-headers 'C:\\Users\\nguye\\anaconda3\\Include\\box2d-kengz'\n",
      "         cwd: C:\\Users\\nguye\\AppData\\Local\\Temp\\pip-install-zpog85cw\\box2d-kengz_1cbf3d89e8e74ff2969550178c06a5fc\\\n",
      "    Complete output (16 lines):\n",
      "    Using setuptools (version 52.0.0.post20210125).\n",
      "    running install\n",
      "    running build\n",
      "    running build_py\n",
      "    creating build\n",
      "    creating build\\lib.win-amd64-3.8\n",
      "    creating build\\lib.win-amd64-3.8\\Box2D\n",
      "    copying library\\Box2D\\Box2D.py -> build\\lib.win-amd64-3.8\\Box2D\n",
      "    copying library\\Box2D\\__init__.py -> build\\lib.win-amd64-3.8\\Box2D\n",
      "    creating build\\lib.win-amd64-3.8\\Box2D\\b2\n",
      "    copying library\\Box2D\\b2\\__init__.py -> build\\lib.win-amd64-3.8\\Box2D\\b2\n",
      "    running build_ext\n",
      "    building 'Box2D._Box2D' extension\n",
      "    swigging Box2D\\Box2D.i to Box2D\\Box2D_wrap.cpp\n",
      "    swig.exe -python -c++ -IBox2D -small -O -includeall -ignoremissing -w201 -globals b2Globals -outdir library\\Box2D -keyword -w511 -D_SWIG_KWARGS -o Box2D\\Box2D_wrap.cpp Box2D\\Box2D.i\n",
      "    error: command 'swig.exe' failed: No such file or directory\n",
      "    ----------------------------------------\n",
      "ERROR: Command errored out with exit status 1: 'C:\\Users\\nguye\\anaconda3\\python.exe' -u -c 'import sys, setuptools, tokenize; sys.argv[0] = '\"'\"'C:\\\\Users\\\\nguye\\\\AppData\\\\Local\\\\Temp\\\\pip-install-zpog85cw\\\\box2d-kengz_1cbf3d89e8e74ff2969550178c06a5fc\\\\setup.py'\"'\"'; __file__='\"'\"'C:\\\\Users\\\\nguye\\\\AppData\\\\Local\\\\Temp\\\\pip-install-zpog85cw\\\\box2d-kengz_1cbf3d89e8e74ff2969550178c06a5fc\\\\setup.py'\"'\"';f=getattr(tokenize, '\"'\"'open'\"'\"', open)(__file__);code=f.read().replace('\"'\"'\\r\\n'\"'\"', '\"'\"'\\n'\"'\"');f.close();exec(compile(code, __file__, '\"'\"'exec'\"'\"'))' install --record 'C:\\Users\\nguye\\AppData\\Local\\Temp\\pip-record-yan4iqlh\\install-record.txt' --single-version-externally-managed --compile --install-headers 'C:\\Users\\nguye\\anaconda3\\Include\\box2d-kengz' Check the logs for full command output.\n"
     ]
    }
   ],
   "source": [
    "!apt install swig cmake\n",
    "!pip install stable-baselines3[extra] box2d box2d-kengz"
   ]
  },
  {
   "cell_type": "code",
   "execution_count": 5,
   "id": "74a67278",
   "metadata": {},
   "outputs": [],
   "source": [
    "# import gym\n",
    "# from stable_baselines3 import DQN\n",
    "# from stable_baselines3.common.evaluation import evaluate_policy\n",
    "\n",
    "# # Create environment\n",
    "# env = gym.make(\"LunarLander-v2\")\n",
    "\n",
    "# # Instantiate the agent\n",
    "# model = DQN(\"MlpPolicy\", env ,verbose=1)\n",
    "\n",
    "# # Train the agent\n",
    "# model.learn(total_timesteps=int(2e5))\n",
    "\n",
    "# # Save the agent\n",
    "# model.save(\"trained_dqn_lunar\")\n",
    "\n",
    "# # Delete trained model to demonstrate loading\n",
    "# del model \n",
    "\n",
    "# # Load the trained agent\n",
    "# model = DQN.load(\"dqn_lunar\", env=env)\n",
    "\n",
    "# # Evaluate the agent:\n",
    "# # Note: if you use wrappers with your environment that modify rewards, this will be reflected here.\n",
    "# # To evaluate with original rewards, wrap environment in a \"Monitor\" wrapped before other wrappers\n",
    "# mean_reward, std_reward = evaluate_policy(model, model.get_env(), n_eval_episodes=10)\n",
    "\n",
    "# # Enjoy trained agent\n",
    "# obs = env.reset()\n",
    "# for i in range(1000):\n",
    "#     action, _state = model.predict(obs, deterministic=True)\n",
    "#     obs, rewards, dones, info = env.step(action)\n",
    "#     env.render()"
   ]
  },
  {
   "cell_type": "markdown",
   "id": "f8d02df4",
   "metadata": {},
   "source": [
    "## Multiprocessing: Unleashing the Power of Vectorized Environments\n",
    "- CartPole"
   ]
  },
  {
   "cell_type": "code",
   "execution_count": null,
   "id": "26bda647",
   "metadata": {},
   "outputs": [],
   "source": [
    "import gym\n",
    "import numpy as np\n",
    "from stable_baselines3 import PPO\n",
    "from stable_baseline3.common.vec_env import SubprocVecEnv\n",
    "from stable_baseline3.common.vec_util import make_vec_env\n",
    "from stable_baseline3.common.utils import set_random_seed\n",
    "\n",
    "def make_env(env_id, rank, seed=0):\n",
    "    \"\"\"Utility function for multiprocessed env.\n",
    "    \n",
    "    Parameters\n",
    "    ----------\n",
    "    env_id: str\n",
    "        the environment ID\n",
    "    seed: int\n",
    "        initial seed for RNG\n",
    "    rank: int\n",
    "        index of the subprocess\n",
    "    \"\"\"\n",
    "    def _init():\n",
    "        env = gym.make(env_id)\n",
    "        env.seed(seed + rank)\n",
    "        return env\n",
    "    set_random_seed(seed)\n",
    "    return _init\n",
    "\n",
    "if __name__ == \"__main__\":\n",
    "    "
   ]
  },
  {
   "cell_type": "code",
   "execution_count": null,
   "id": "e37a0a2e",
   "metadata": {},
   "outputs": [],
   "source": []
  },
  {
   "cell_type": "code",
   "execution_count": null,
   "id": "1cf29b3a",
   "metadata": {},
   "outputs": [],
   "source": []
  },
  {
   "cell_type": "code",
   "execution_count": null,
   "id": "4d58e584",
   "metadata": {},
   "outputs": [],
   "source": []
  },
  {
   "cell_type": "code",
   "execution_count": null,
   "id": "aa76cc98",
   "metadata": {},
   "outputs": [],
   "source": []
  }
 ],
 "metadata": {
  "kernelspec": {
   "display_name": "Python 3",
   "language": "python",
   "name": "python3"
  },
  "language_info": {
   "codemirror_mode": {
    "name": "ipython",
    "version": 3
   },
   "file_extension": ".py",
   "mimetype": "text/x-python",
   "name": "python",
   "nbconvert_exporter": "python",
   "pygments_lexer": "ipython3",
   "version": "3.8.8"
  }
 },
 "nbformat": 4,
 "nbformat_minor": 5
}
