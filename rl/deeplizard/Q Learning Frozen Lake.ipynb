{
 "cells": [
  {
   "cell_type": "markdown",
   "id": "b682d798",
   "metadata": {},
   "source": [
    "# Q Learning "
   ]
  },
  {
   "cell_type": "code",
   "execution_count": 3,
   "id": "d2edc6b4",
   "metadata": {},
   "outputs": [
    {
     "name": "stdout",
     "output_type": "stream",
     "text": [
      "Collecting gym\n",
      "  Using cached gym-0.18.3.tar.gz (1.6 MB)\n",
      "Requirement already satisfied: scipy in c:\\users\\nguye\\anaconda3\\lib\\site-packages (from gym) (1.6.2)\n",
      "Requirement already satisfied: numpy>=1.10.4 in c:\\users\\nguye\\anaconda3\\lib\\site-packages (from gym) (1.20.1)\n",
      "Collecting pyglet<=1.5.15,>=1.4.0\n",
      "  Using cached pyglet-1.5.15-py3-none-any.whl (1.1 MB)\n",
      "Requirement already satisfied: Pillow<=8.2.0 in c:\\users\\nguye\\anaconda3\\lib\\site-packages (from gym) (8.2.0)\n",
      "Requirement already satisfied: cloudpickle<1.7.0,>=1.2.0 in c:\\users\\nguye\\anaconda3\\lib\\site-packages (from gym) (1.6.0)\n",
      "Building wheels for collected packages: gym\n",
      "  Building wheel for gym (setup.py): started\n",
      "  Building wheel for gym (setup.py): finished with status 'done'\n",
      "  Created wheel for gym: filename=gym-0.18.3-py3-none-any.whl size=1657515 sha256=0821acbfe935540260c41e6636ed266c57f9411692aab95dcc9b4bfa8541cb0d\n",
      "  Stored in directory: c:\\users\\nguye\\appdata\\local\\pip\\cache\\wheels\\b3\\03\\54\\9141c232861b89be935b37bdde0ea5ab472f5e18fc20623aed\n",
      "Successfully built gym\n",
      "Installing collected packages: pyglet, gym\n",
      "Successfully installed gym-0.18.3 pyglet-1.5.15\n"
     ]
    }
   ],
   "source": [
    "!pip install gym"
   ]
  },
  {
   "cell_type": "code",
   "execution_count": 5,
   "id": "0c5e1c06",
   "metadata": {},
   "outputs": [],
   "source": [
    "import numpy as np\n",
    "import gym\n",
    "import random\n",
    "import time\n",
    "from IPython.display import clear_output"
   ]
  },
  {
   "cell_type": "code",
   "execution_count": 6,
   "id": "41855f04",
   "metadata": {},
   "outputs": [],
   "source": [
    "env = gym.make(\"FrozenLake-v0\")"
   ]
  },
  {
   "cell_type": "code",
   "execution_count": 7,
   "id": "1fd2d1af",
   "metadata": {},
   "outputs": [],
   "source": [
    "action_space_size = env.action_space.n\n",
    "state_space_size = env.observation_space.n"
   ]
  },
  {
   "cell_type": "code",
   "execution_count": 8,
   "id": "2c93e6d4",
   "metadata": {},
   "outputs": [
    {
     "name": "stdout",
     "output_type": "stream",
     "text": [
      "[[0. 0. 0. 0.]\n",
      " [0. 0. 0. 0.]\n",
      " [0. 0. 0. 0.]\n",
      " [0. 0. 0. 0.]\n",
      " [0. 0. 0. 0.]\n",
      " [0. 0. 0. 0.]\n",
      " [0. 0. 0. 0.]\n",
      " [0. 0. 0. 0.]\n",
      " [0. 0. 0. 0.]\n",
      " [0. 0. 0. 0.]\n",
      " [0. 0. 0. 0.]\n",
      " [0. 0. 0. 0.]\n",
      " [0. 0. 0. 0.]\n",
      " [0. 0. 0. 0.]\n",
      " [0. 0. 0. 0.]\n",
      " [0. 0. 0. 0.]]\n"
     ]
    }
   ],
   "source": [
    "q_table = np.zeros((state_space_size, action_space_size))\n",
    "print(q_table)"
   ]
  },
  {
   "cell_type": "code",
   "execution_count": 11,
   "id": "9e7788b2",
   "metadata": {},
   "outputs": [
    {
     "name": "stdout",
     "output_type": "stream",
     "text": [
      "4\n",
      "16\n"
     ]
    }
   ],
   "source": [
    "print(action_space_size)\n",
    "print(state_space_size)"
   ]
  },
  {
   "cell_type": "markdown",
   "id": "ca1ee316",
   "metadata": {},
   "source": [
    "## Parameters for Q Learning Algorithms"
   ]
  },
  {
   "cell_type": "code",
   "execution_count": 16,
   "id": "fe04f768",
   "metadata": {},
   "outputs": [],
   "source": [
    "num_episodes = 10000 # number of episodes we want the agent to play during training\n",
    "max_steps_per_episode = 100 # max number of steps that agent can take in 1 episode\n",
    "\n",
    "learning_rate = 0.1 # alpha\n",
    "discount_rate = 0.99 # gamma, discounted rewards\n",
    "\n",
    "# epsilon greedy strategy\n",
    "exploration_rate = 1\n",
    "max_exploration_rate = 1\n",
    "min_exploration_rate = 0.01\n",
    "exploration_decay_rate = 0.001"
   ]
  },
  {
   "cell_type": "markdown",
   "id": "e3c6013b",
   "metadata": {},
   "source": [
    "## Q Learning Algorithms"
   ]
  },
  {
   "cell_type": "code",
   "execution_count": 24,
   "id": "072980a2",
   "metadata": {},
   "outputs": [
    {
     "name": "stdout",
     "output_type": "stream",
     "text": [
      "*****Average reward per thousand episodes*****\n",
      "\n",
      "1000: 0.057000000000000044\n",
      "2000: 0.18100000000000013\n",
      "3000: 0.3820000000000003\n",
      "4000: 0.5410000000000004\n",
      "5000: 0.6270000000000004\n",
      "6000: 0.6560000000000005\n",
      "7000: 0.6960000000000005\n",
      "8000: 0.6780000000000005\n",
      "9000: 0.7000000000000005\n",
      "10000: 0.6590000000000005\n",
      "\n",
      "\n",
      " ****Q-table*****\n",
      "\n",
      "[[0.52610779 0.49602763 0.50746303 0.47741521]\n",
      " [0.38059297 0.32099116 0.30966587 0.48727241]\n",
      " [0.42736786 0.41088971 0.4244271  0.47376316]\n",
      " [0.37845886 0.2577131  0.30450433 0.4657776 ]\n",
      " [0.54009735 0.25020471 0.3877593  0.30307579]\n",
      " [0.         0.         0.         0.        ]\n",
      " [0.18557865 0.14195544 0.25390525 0.14275628]\n",
      " [0.         0.         0.         0.        ]\n",
      " [0.35427192 0.37163518 0.33213888 0.59533001]\n",
      " [0.41659376 0.61633842 0.53229361 0.31722433]\n",
      " [0.64244671 0.38474965 0.31293694 0.33149706]\n",
      " [0.         0.         0.         0.        ]\n",
      " [0.         0.         0.         0.        ]\n",
      " [0.28250728 0.34921215 0.74174958 0.51625664]\n",
      " [0.75460163 0.88107038 0.76140369 0.70174368]\n",
      " [0.         0.         0.         0.        ]]\n"
     ]
    }
   ],
   "source": [
    "rewards_all_episode = []\n",
    "\n",
    "# Q Learning Algorithms\n",
    "for episode in range(num_episodes):\n",
    "    # for each episode reset the state, done state, and episode rewards\n",
    "    state = env.reset()\n",
    "    \n",
    "    done = False\n",
    "    rewards_current_episode = 0\n",
    "    \n",
    "    for step in range(max_steps_per_episode):\n",
    "        # for each step, do epsilon greedy to pick the action, update new state, reward, update the Q table\n",
    "        \n",
    "        # Exploration-exploitation trade off\n",
    "        exploration_rate_threshold = random.uniform(0,1)\n",
    "        if exploration_rate_threshold > exploration_rate:\n",
    "            action = np.argmax(q_table[state,:])\n",
    "        else:\n",
    "            action = env.action_space.sample()\n",
    "        \n",
    "        new_state, reward, done, info = env.step(action)\n",
    "        \n",
    "        # Update Q-table for Q(s,a)\n",
    "        q_table[state, action] = q_table[state, action] * (1-learning_rate) \\\n",
    "        + learning_rate * (reward + discount_rate * np.max(q_table[new_state,:]))\n",
    "        \n",
    "        state = new_state\n",
    "        rewards_current_episode += reward\n",
    "        \n",
    "        if done == True:\n",
    "            break\n",
    "\n",
    "    # Exploration rate decay after an episode\n",
    "    exploration_rate = min_exploration_rate + (max_exploration_rate  - min_exploration_rate) * np.exp(-exploration_decay_rate*episode)\n",
    "    \n",
    "    rewards_all_episode.append(rewards_current_episode) #append reward for an episode\n",
    "    \n",
    "# Calculate and print the average reward per thousand episodes\n",
    "rewards_per_thousand_episodes = np.split(np.array(rewards_all_episode), num_episodes/1000)\n",
    "count = 1000\n",
    "print(\"*****Average reward per thousand episodes*****\\n\")\n",
    "\n",
    "for r in rewards_per_thousand_episodes:\n",
    "    print(f\"{count}: {str(sum(r/1000))}\")\n",
    "    count += 1000\n",
    "    \n",
    "# Print updated Q-table\n",
    "print(\"\\n\\n ****Q-table*****\\n\")\n",
    "print(q_table)"
   ]
  },
  {
   "cell_type": "code",
   "execution_count": null,
   "id": "b5a88964",
   "metadata": {},
   "outputs": [],
   "source": []
  },
  {
   "cell_type": "code",
   "execution_count": null,
   "id": "0f3e91a3",
   "metadata": {},
   "outputs": [],
   "source": []
  },
  {
   "cell_type": "code",
   "execution_count": null,
   "id": "c7ec32b1",
   "metadata": {},
   "outputs": [],
   "source": []
  },
  {
   "cell_type": "code",
   "execution_count": null,
   "id": "73cfddf1",
   "metadata": {},
   "outputs": [],
   "source": []
  }
 ],
 "metadata": {
  "kernelspec": {
   "display_name": "Python 3",
   "language": "python",
   "name": "python3"
  },
  "language_info": {
   "codemirror_mode": {
    "name": "ipython",
    "version": 3
   },
   "file_extension": ".py",
   "mimetype": "text/x-python",
   "name": "python",
   "nbconvert_exporter": "python",
   "pygments_lexer": "ipython3",
   "version": "3.8.8"
  }
 },
 "nbformat": 4,
 "nbformat_minor": 5
}
