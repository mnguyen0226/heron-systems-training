{
 "cells": [
  {
   "cell_type": "markdown",
   "id": "1448494e",
   "metadata": {},
   "source": [
    "# DQN Cart Pole Project\n",
    "- NN\n",
    "- Experience: to generate data\n",
    "- Replay Memory: to store experience"
   ]
  },
  {
   "cell_type": "markdown",
   "id": "08dc7506",
   "metadata": {},
   "source": [
    "No optimization and no instruction for when to end an episode"
   ]
  },
  {
   "cell_type": "code",
   "execution_count": 1,
   "id": "5a91f7ce",
   "metadata": {},
   "outputs": [],
   "source": [
    "# import gym\n",
    "# env = gym.make(\"CartPole-v0\")\n",
    "# env.reset()\n",
    "# for _ in range(1000):\n",
    "#     env.render()\n",
    "#     env.step(env.action_space.sample())\n",
    "# env.close()"
   ]
  },
  {
   "cell_type": "markdown",
   "id": "3cd84001",
   "metadata": {},
   "source": [
    "## Import Libraries"
   ]
  },
  {
   "cell_type": "code",
   "execution_count": 2,
   "id": "75b27d09",
   "metadata": {},
   "outputs": [],
   "source": [
    "%matplotlib inline\n",
    "import gym\n",
    "import math\n",
    "import random\n",
    "import numpy as np \n",
    "import matplotlib\n",
    "import matplotlib.pyplot as plt\n",
    "from collections import namedtuple\n",
    "from itertools import count \n",
    "from PIL import Image\n",
    "import torch\n",
    "import torch.nn as nn\n",
    "import torch.optim as optim\n",
    "import torch.nn.functional as F\n",
    "import torchvision.transforms as T\n",
    "from typing import Tuple, List"
   ]
  },
  {
   "cell_type": "markdown",
   "id": "6597a14e",
   "metadata": {},
   "source": [
    "## Set up display"
   ]
  },
  {
   "cell_type": "code",
   "execution_count": 3,
   "id": "8518ad6d",
   "metadata": {},
   "outputs": [],
   "source": [
    "is_ipython = 'inline' in matplotlib.get_backend()\n",
    "if is_ipython: from IPython import display"
   ]
  },
  {
   "cell_type": "markdown",
   "id": "8c8a8cce",
   "metadata": {},
   "source": [
    "## DQN"
   ]
  },
  {
   "cell_type": "code",
   "execution_count": 4,
   "id": "ba469528",
   "metadata": {},
   "outputs": [],
   "source": [
    "class DQN(nn.Module):\n",
    "    def __init__(self, img_height: int, img_width: int):\n",
    "        \"\"\"DQN class\n",
    "        \n",
    "        Parameters\n",
    "        ----------\n",
    "        img_height: int\n",
    "            image height\n",
    "        img_widge: int\n",
    "            image width\n",
    "        \"\"\"\n",
    "        super().__init__()\n",
    "        self.fc1 = nn.Linear(in_features=img_height*img_width*3, out_features = 24) \n",
    "        self.fc2 = nn.Linear(in_features=24, out_features=32)\n",
    "        self.out = nn.Linear(in_features=32, out_features=2) #2 = moving left or right\n",
    "    \n",
    "    def forward(self, t: torch.Tensor) -> torch.Tensor:\n",
    "        \"\"\"Feedforward of DQN;\n",
    "        \n",
    "        Parameters\n",
    "        ----------\n",
    "        t: torch.Tensor\n",
    "            input image\n",
    "            \n",
    "        Return\n",
    "        ----------\n",
    "        t: torch.Tensor\n",
    "            action left or right of the cartpole\n",
    "        \"\"\"\n",
    "        t = t.flatten(start_dim=1)\n",
    "        t = self.fc1(t)\n",
    "        t = F.relu(t)\n",
    "        t = self.fc2(t)\n",
    "        t = F.relu(t)\n",
    "        t = self.out(t)\n",
    "        return t"
   ]
  },
  {
   "cell_type": "markdown",
   "id": "4230e5b2",
   "metadata": {},
   "source": [
    "## Experience Class:\n",
    "- Play the environment to generate data input to nn\n",
    "- Experiences is what will be replayed and used as input to nn"
   ]
  },
  {
   "cell_type": "code",
   "execution_count": 5,
   "id": "4f1e2f3d",
   "metadata": {},
   "outputs": [],
   "source": [
    "Experience = namedtuple(\"Experience\", (\"state\", \"action\", \"next_state\", \"reward\"))"
   ]
  },
  {
   "cell_type": "code",
   "execution_count": 6,
   "id": "2a2bf9f8",
   "metadata": {},
   "outputs": [],
   "source": [
    "# Experience object ex\n",
    "e = Experience(2,3,1,4)"
   ]
  },
  {
   "cell_type": "code",
   "execution_count": 7,
   "id": "f1a80a50",
   "metadata": {},
   "outputs": [
    {
     "data": {
      "text/plain": [
       "Experience(state=2, action=3, next_state=1, reward=4)"
      ]
     },
     "execution_count": 7,
     "metadata": {},
     "output_type": "execute_result"
    }
   ],
   "source": [
    "e"
   ]
  },
  {
   "cell_type": "markdown",
   "id": "ece68900",
   "metadata": {},
   "source": [
    "## Replay memory class to store experience"
   ]
  },
  {
   "cell_type": "code",
   "execution_count": 8,
   "id": "10f55a7f",
   "metadata": {},
   "outputs": [],
   "source": [
    "class ReplayMemory():\n",
    "    def __init__(self, capacity: int):\n",
    "        \"\"\"Replay Memory class\n",
    "        \n",
    "        Parameters\n",
    "        ----------\n",
    "        capacity: int\n",
    "            capacity of the memory\n",
    "        \"\"\"\n",
    "        self.capacity = capacity\n",
    "        self.memory = []\n",
    "        self.push_count = 0 # keep track how many experience we have in a memory\n",
    "    \n",
    "    def push(self, experience: Experience):\n",
    "        \"\"\"Push the experience into the memory\n",
    "        \n",
    "        Parameters\n",
    "        ----------\n",
    "        experience: Experience\n",
    "            played experience\n",
    "        \"\"\"\n",
    "        if len(self.memory) < self.capacity:\n",
    "            self.memory.append(experience)\n",
    "        else: # if the memory full then we push new exp to the front of the memory\n",
    "            self.memory[self.push_count % self.capacity] = experience\n",
    "        self.push_count += 1\n",
    "    \n",
    "    def sample(self, batch_size: int) -> List:\n",
    "        \"\"\"Sample in the memory dataset with batch_size number of experience\n",
    "        \n",
    "        Parameters\n",
    "        ----------\n",
    "        batch_size: int\n",
    "            batch size\n",
    "        \n",
    "        Return\n",
    "        ----------\n",
    "        list of experience according to the batch size\n",
    "        \"\"\"\n",
    "        # sample exp to general batch for DQN network\n",
    "        return random.sample(self.memory, batch_size)\n",
    "    \n",
    "    def can_provide_sample(self, batch_size) -> bool:\n",
    "        \"\"\"Check if have enough data in the list to gather a batch\n",
    "        \n",
    "        Parameters\n",
    "        ----------\n",
    "        batch_size: int\n",
    "            size of a batch of experience\n",
    "        \n",
    "        Return\n",
    "        ----------\n",
    "        boolean of able to get a batch of experience or not\n",
    "        \"\"\"\n",
    "        # check if we have enough data to generate a batch\n",
    "        return len(self.memory) >= batch_size"
   ]
  },
  {
   "cell_type": "markdown",
   "id": "9625abbb",
   "metadata": {},
   "source": [
    "## Epsilon Greedy Strategy Class"
   ]
  },
  {
   "cell_type": "code",
   "execution_count": 9,
   "id": "6b93c3dc",
   "metadata": {},
   "outputs": [],
   "source": [
    "class EpsilonGreedyStrategy():\n",
    "    def __init__(self, start, end, decay):\n",
    "        \"\"\"Exploration vs Exploitation\n",
    "        \n",
    "        Parameters\n",
    "        start:\n",
    "            start decay value\n",
    "        end:\n",
    "            end decay value\n",
    "        decay:\n",
    "            decay value\n",
    "        ----------\n",
    "        \"\"\"\n",
    "        self.start = start\n",
    "        self.end = end\n",
    "        self.decay = decay\n",
    "    \n",
    "    def get_exploration_rate(self, current_step):\n",
    "        \"\"\"Get exploration rate \n",
    "        \n",
    "        Parameters\n",
    "        ----------\n",
    "        current_step:\n",
    "            current step in the training process\n",
    "        Return\n",
    "        ----------\n",
    "        the exploration rate\n",
    "        \"\"\"\n",
    "        return self.end + (self.start - self.end) * math.exp(-1. * current_step * self.decay)"
   ]
  },
  {
   "cell_type": "markdown",
   "id": "6a10c966",
   "metadata": {},
   "source": [
    "## Reinforcement Learning Agent"
   ]
  },
  {
   "cell_type": "code",
   "execution_count": 10,
   "id": "98253f69",
   "metadata": {},
   "outputs": [],
   "source": [
    "class Agent():\n",
    "    def __init__(self, strategy, num_actions, device):\n",
    "        \"\"\"RL Agent\n",
    "        \n",
    "        Paramaters\n",
    "        ----------\n",
    "        strategy:\n",
    "            epsilon strategy of exploration or exploitation\n",
    "        num_actions:\n",
    "            number of actions\n",
    "        device:\n",
    "            cpu or gpu\n",
    "        \"\"\"\n",
    "        self.current_step = 0 # current step number in the env\n",
    "        self.strategy = strategy # epsilon greedy strategy\n",
    "        self.num_actions = num_actions\n",
    "        self.device = device\n",
    "        \n",
    "    def select_action(self, state, policy_net):\n",
    "        \"\"\"Select action left or right to take\n",
    "        \n",
    "        Parameters\n",
    "        ----------\n",
    "        state:\n",
    "            current state of the agent in the env\n",
    "        policy_net:\n",
    "            policy network for generating target (not prediction)\n",
    "            \n",
    "        Return:\n",
    "        ----------\n",
    "        action to take\n",
    "        \"\"\"\n",
    "        rate = strategy.get_exploration_rate(self.current_step)\n",
    "        self.current_step += 1\n",
    "        \n",
    "        if rate > random.random(): # if the exploration rate > than random rate\n",
    "            action = random.randrange(self.num_actions)\n",
    "            return torch.tensor([action]).to(device) # explore the env by randomly selecting the action 0 or 1 left and rihgt action\n",
    "        else:\n",
    "            with torch.no_grad(): \n",
    "                return policy_net(state).argmax(dim=1).to(device) # exploit with the highest Q value output in the policy networ with a given state"
   ]
  },
  {
   "cell_type": "markdown",
   "id": "da47c0d9",
   "metadata": {},
   "source": [
    "## Image Preprocessing & Env Management"
   ]
  },
  {
   "cell_type": "code",
   "execution_count": 11,
   "id": "daebe1b5",
   "metadata": {},
   "outputs": [],
   "source": [
    "class CartPoleEnvManager():\n",
    "    def __init__(self, device):\n",
    "        \"\"\"Cart Pole Environment Manager\n",
    "        \n",
    "        Parameters\n",
    "        ----------\n",
    "        device:\n",
    "            gpu or cpu\n",
    "        \"\"\"\n",
    "        self.device = device\n",
    "        self.env = gym.make(\"CartPole-v0\").unwrapped\n",
    "        self.env.reset()\n",
    "        self.current_screen = None\n",
    "        self.done = False\n",
    "        \n",
    "    def reset(self):\n",
    "        \"\"\"Reset the environment\"\"\"\n",
    "        self.env.reset()\n",
    "        self.current_screen = None\n",
    "    \n",
    "    def close(self):\n",
    "        \"\"\"Close the environment\"\"\"\n",
    "        self.env.close()\n",
    "        \n",
    "    def render(self, mode=\"human\"):\n",
    "        \"\"\"Render the environment for observation\"\"\"\n",
    "        return self.env.render(mode)\n",
    "    \n",
    "    #######################################################################\n",
    "    def num_actions_available(self):\n",
    "        \"\"\"Return number of action available to the agent in the environment: left or right\n",
    "        \n",
    "        Return\n",
    "        ----------\n",
    "        number of actions that available to act\n",
    "        \"\"\"\n",
    "        return self.env.action_space.n\n",
    "    \n",
    "    def take_action(self, action: torch.Tensor) -> torch.Tensor:\n",
    "        \"\"\"Take left or right action\n",
    "        \n",
    "        Parameters\n",
    "        ----------\n",
    "        action: torch.Tensor\n",
    "            left or right action\n",
    "        \n",
    "        Return\n",
    "        ----------\n",
    "        agent step to action: torch.Tensor\n",
    "        \"\"\"\n",
    "        # .item() return the value of the Tensor\n",
    "        _, reward, self.done, _ = self.env.step(action.item()) # we only care the reward and if the episode ended or not. self.done here means to updates the current \"done\" state\n",
    "        return torch.tensor([reward], device = self.device) # return the reward wrapped by Pytorch Tensor\n",
    "    \n",
    "    def just_starting(self) -> bool:\n",
    "        \"\"\"Returns true if the current screen is none\n",
    "        \"\"\"\n",
    "        return self.current_screen is None\n",
    "    \n",
    "    def get_state(self):\n",
    "        \"\"\"Return the current state of the environment in the form of processed image on the screen\n",
    "        \n",
    "        Return\n",
    "        ----------\n",
    "        state:\n",
    "        \"\"\"\n",
    "        if self.just_starting() or self.done:\n",
    "            self.current_screen = self.get_processed_screen()\n",
    "            black_screen = torch.zeros_like(self.current_screen)\n",
    "            return black_screen\n",
    "        else:\n",
    "            s1 = self.current_screen\n",
    "            s2 = self.get_processed_screen()\n",
    "            self.current_screen = s2\n",
    "            return s2-s1 # state = different between the current screen and previous screen => allow the agent to take velocity into account\n",
    "    \n",
    "    #######################################################################\n",
    "    def get_screen_height(self):\n",
    "        \"\"\"Get Screen Height\n",
    "        \n",
    "        Return\n",
    "        ----------\n",
    "        height of the screen\n",
    "        \"\"\"\n",
    "        screen = self.get_processed_screen()\n",
    "        return screen.shape[2]\n",
    "\n",
    "    \n",
    "    def get_screen_width(self):\n",
    "        \"\"\"Get Screen Width\n",
    "        \n",
    "        Return\n",
    "        ----------\n",
    "        width of the screen\n",
    "        \"\"\"\n",
    "        screen = self.get_processed_screen()\n",
    "        return screen.shape[3]\n",
    "    \n",
    "    def get_processed_screen(self):\n",
    "        \"\"\"Get Processed Screen\n",
    "        \n",
    "        Return\n",
    "        ----------\n",
    "        cropped screen\n",
    "        \"\"\"\n",
    "        screen = self.render(\"rgb_array\").transpose((2,0,1))\n",
    "        screen = self.crop_screen(screen)\n",
    "        return self.transform_screen_data(screen)\n",
    "    \n",
    "    def crop_screen(self, screen):\n",
    "        \"\"\"Cropped Screen\n",
    "        \n",
    "        Return\n",
    "        ----------\n",
    "        cropped screen\n",
    "        \"\"\"\n",
    "        screen_height = screen.shape[1]\n",
    "        \n",
    "        # stip off top and bottom\n",
    "        top = int(screen_height * 0.4)\n",
    "        bottom = int(screen_height * 0.8)\n",
    "        screen = screen[:, top:bottom, :]\n",
    "        return screen\n",
    "    \n",
    "    def transform_screen_data(self, screen):\n",
    "        \"\"\"Converts to float, rescale, convert to tensor\n",
    "        \n",
    "        Parameters\n",
    "        ----------\n",
    "        screen:\n",
    "            screen \n",
    "        \"\"\"\n",
    "        screen = np.ascontiguousarray(screen, dtype=np.float32) /255\n",
    "        screen = torch.from_numpy(screen)\n",
    "        \n",
    "        # use torchvision package to compose image transforms\n",
    "        resize = T.Compose([\n",
    "            T.ToPILImage(),\n",
    "            T.Resize((40,90)),\n",
    "            T.ToTensor()\n",
    "        ])\n",
    "        return resize(screen).unsqueeze(0).to(self.device) # add batch dim\n"
   ]
  },
  {
   "cell_type": "markdown",
   "id": "ba25aae2",
   "metadata": {},
   "source": [
    "## Example of non-processed screen"
   ]
  },
  {
   "cell_type": "code",
   "execution_count": 12,
   "id": "fc069ab8",
   "metadata": {},
   "outputs": [],
   "source": [
    "# device = torch.device(\"cuda\" if torch.cuda.is_available() else \"cpu\")\n",
    "# em = CartPoleEnvManager(device)\n",
    "# em.reset()\n",
    "# screen = em.render(\"rgb_array\")\n",
    "\n",
    "# plt.figure()\n",
    "# plt.imshow(screen)\n",
    "# plt.title(\"Non-processed screen example\")\n",
    "# plt.show()"
   ]
  },
  {
   "cell_type": "markdown",
   "id": "4650c30b",
   "metadata": {},
   "source": [
    "Example of processed screen"
   ]
  },
  {
   "cell_type": "code",
   "execution_count": 13,
   "id": "92635945",
   "metadata": {},
   "outputs": [],
   "source": [
    "# screen = em.get_processed_screen()\n",
    "\n",
    "# plt.figure()\n",
    "# plt.imshow(screen.squeeze(0).permute(1,2,0), interpolation=\"none\")\n",
    "# plt.title(\"Processed Screen Example\")\n",
    "# plt.show()"
   ]
  },
  {
   "cell_type": "markdown",
   "id": "a7e50f6d",
   "metadata": {},
   "source": [
    " ## Example of starting state"
   ]
  },
  {
   "cell_type": "code",
   "execution_count": 14,
   "id": "4c289298",
   "metadata": {},
   "outputs": [],
   "source": [
    "# screen = em.get_state()\n",
    "\n",
    "# plt.figure()\n",
    "# plt.imshow(screen.squeeze(0).permute(1,2,0), interpolation=\"none\")\n",
    "# plt.title(\"Processed screen example\")\n",
    "# plt.show()"
   ]
  },
  {
   "cell_type": "markdown",
   "id": "6d0e3de5",
   "metadata": {},
   "source": [
    "## Example of non-starting state\n",
    "- Difference between current and previous screen"
   ]
  },
  {
   "cell_type": "code",
   "execution_count": 15,
   "id": "04f9b1c0",
   "metadata": {},
   "outputs": [],
   "source": [
    "# for i in range(5):\n",
    "#     em.take_action(torch.tensor([1]))\n",
    "# screen = em.get_state()\n",
    "\n",
    "# plt.figure()\n",
    "# plt.imshow(screen.squeeze(0).permute(1,2,0), interpolation=\"none\")\n",
    "# plt.title(\"Processed Screen Example\")\n",
    "# plt.show()"
   ]
  },
  {
   "cell_type": "markdown",
   "id": "8ff7ec85",
   "metadata": {},
   "source": [
    "## Example of end state"
   ]
  },
  {
   "cell_type": "code",
   "execution_count": 16,
   "id": "e5ab9b98",
   "metadata": {},
   "outputs": [],
   "source": [
    "# em.done = True\n",
    "# screen = em.get_state()\n",
    "\n",
    "# plt.figure()\n",
    "# plt.imshow(screen.squeeze(0).permute(1,2,0), interpolation=\"none\")\n",
    "# plt.title(\"Processed screen example\")\n",
    "# plt.show()\n",
    "# em.close()"
   ]
  },
  {
   "cell_type": "markdown",
   "id": "a7ea5911",
   "metadata": {},
   "source": [
    "## Utility Function"
   ]
  },
  {
   "cell_type": "markdown",
   "id": "1d7c86f0",
   "metadata": {},
   "source": [
    "### Plotting"
   ]
  },
  {
   "cell_type": "code",
   "execution_count": 17,
   "id": "1aff04dd",
   "metadata": {},
   "outputs": [],
   "source": [
    "def plot(values, moving_avg_period):\n",
    "    plt.figure()\n",
    "    plt.clf()\n",
    "    plt.title(\"Training...\")\n",
    "    plt.xlabel(\"Episode\")\n",
    "    plt.ylabel(\"Duration\")\n",
    "    plt.plot(values)\n",
    "    \n",
    "    moving_avg = get_moving_average(moving_avg_period, values)\n",
    "    plt.plot(moving_avg)\n",
    "    plt.pause(0.001)\n",
    "    print(f\"Episode {len(values)} \\n {moving_avg_period}, episode moving avg: {moving_avg[-1]}\")\n",
    "    if is_ipython: display.clear_output(wait=True)\n",
    "\n",
    "def get_moving_average(period, values):\n",
    "    values = torch.tensor(values, dtype=torch.float)\n",
    "    if len(values) >= period:\n",
    "        moving_avg = values.unfold(dimension=0, size=period, step=1).mean(dim=1).flatten(start_dim=0)\n",
    "        moving_avg = torch.cat((torch.zeros(period-1), moving_avg))\n",
    "        return moving_avg.numpy()\n",
    "    \n",
    "    else:\n",
    "        moving_avg = torch.zeros(len(values))\n",
    "        return moving_avg.numpy()"
   ]
  },
  {
   "cell_type": "code",
   "execution_count": 18,
   "id": "202d09e0",
   "metadata": {},
   "outputs": [
    {
     "data": {
      "image/png": "[encoded data removed]",
      "text/plain": [
       "<Figure size 432x288 with 1 Axes>"
      ]
     },
     "metadata": {
      "needs_background": "light"
     },
     "output_type": "display_data"
    },
    {
     "name": "stdout",
     "output_type": "stream",
     "text": [
      "Episode 300 \n",
      " 100, episode moving avg: 0.4389888644218445\n"
     ]
    }
   ],
   "source": [
    "plot(np.random.rand(300),100)"
   ]
  },
  {
   "cell_type": "markdown",
   "id": "bed07d47",
   "metadata": {},
   "source": [
    "## Tensor Processing"
   ]
  },
  {
   "cell_type": "code",
   "execution_count": 19,
   "id": "8c47590e",
   "metadata": {},
   "outputs": [],
   "source": [
    "def extract_tensors(experiences):\n",
    "    batch = Experience(*zip(*experiences))\n",
    "    \n",
    "    t1 = torch.cat(batch.state)\n",
    "    t2 = torch.cat(batch.action)\n",
    "    t3 = torch.cat(batch.reward)\n",
    "    t4 = torch.cat(batch.next_state)\n",
    "    \n",
    "    return (t1,t2,t3,t4)"
   ]
  },
  {
   "cell_type": "code",
   "execution_count": 20,
   "id": "4bde495a",
   "metadata": {},
   "outputs": [
    {
     "data": {
      "text/plain": [
       "[Experience(state=1, action=1, next_state=1, reward=1),\n",
       " Experience(state=2, action=2, next_state=2, reward=2),\n",
       " Experience(state=3, action=3, next_state=3, reward=3)]"
      ]
     },
     "execution_count": 20,
     "metadata": {},
     "output_type": "execute_result"
    }
   ],
   "source": [
    "# Example Tensor Preprocess\n",
    "e1 = Experience(1,1,1,1)\n",
    "e2 = Experience(2,2,2,2)\n",
    "e3 = Experience(3,3,3,3)\n",
    "\n",
    "experiences = [e1,e2,e3]\n",
    "experiences"
   ]
  },
  {
   "cell_type": "code",
   "execution_count": 21,
   "id": "a79a0972",
   "metadata": {},
   "outputs": [
    {
     "data": {
      "text/plain": [
       "Experience(state=(1, 2, 3), action=(1, 2, 3), next_state=(1, 2, 3), reward=(1, 2, 3))"
      ]
     },
     "execution_count": 21,
     "metadata": {},
     "output_type": "execute_result"
    }
   ],
   "source": [
    "batch = Experience(*zip(*experiences))\n",
    "batch"
   ]
  },
  {
   "cell_type": "markdown",
   "id": "532db694",
   "metadata": {},
   "source": [
    "## Q-Value Calculator"
   ]
  },
  {
   "cell_type": "code",
   "execution_count": 22,
   "id": "ff31c294",
   "metadata": {},
   "outputs": [],
   "source": [
    "class QValues():\n",
    "    device = torch.device(\"cuda\" if torch.cuda.is_available() else \"cpu\")\n",
    "    \n",
    "    @staticmethod\n",
    "    def get_current(policy_net, states, actions):\n",
    "        return policy_net(states).gather(dim=1, index=actions.unsqueeze(-1))\n",
    "    \n",
    "    @staticmethod\n",
    "    def get_next(target_net, next_states):\n",
    "        final_state_locations = next_states.flatten(start_dim=1).max(dim=1)[0].eq(0).type(torch.bool)\n",
    "        non_final_state_locations = (final_state_locations == False)\n",
    "        non_final_states = next_states[non_final_state_locations]\n",
    "        batch_size = next_states.shape[0]\n",
    "        values = torch.zeros(batch_size).to(QValues.device)\n",
    "        values[non_final_state_locations] = target_net(non_final_states).max(dim=1)[0].detach()\n",
    "        return values"
   ]
  },
  {
   "cell_type": "markdown",
   "id": "055efbd5",
   "metadata": {},
   "source": [
    "# Main Program"
   ]
  },
  {
   "cell_type": "code",
   "execution_count": 23,
   "id": "2d36dcca",
   "metadata": {},
   "outputs": [
    {
     "data": {
      "image/png": "[encoded data removed]",
      "text/plain": [
       "<Figure size 432x288 with 1 Axes>"
      ]
     },
     "metadata": {
      "needs_background": "light"
     },
     "output_type": "display_data"
    },
    {
     "name": "stdout",
     "output_type": "stream",
     "text": [
      "Episode 1000 \n",
      " 100, episode moving avg: 100.6500015258789\n"
     ]
    }
   ],
   "source": [
    "batch_size = 256\n",
    "gamma = 0.999\n",
    "eps_start = 1 # epsilon\n",
    "eps_end = 0.01\n",
    "eps_decay = 0.001\n",
    "target_update = 10 # how frequently we updates the target networks' weights with the policy networks' weights: every 10 episode \n",
    "memory_size = 100000 \n",
    "lr = 0.001\n",
    "num_episodes = 1000\n",
    "\n",
    "device = torch.device(\"cuda\" if torch.cuda.is_available() else \"cpu\")\n",
    "em = CartPoleEnvManager(device)\n",
    "strategy = EpsilonGreedyStrategy(eps_start, eps_end, eps_decay)\n",
    "agent = Agent(strategy, em.num_actions_available(), device)\n",
    "memory = ReplayMemory(memory_size)\n",
    "\n",
    "policy_net = DQN(em.get_screen_height(), em.get_screen_width()).to(device)\n",
    "target_net = DQN(em.get_screen_height(), em.get_screen_width()).to(device)\n",
    "target_net.load_state_dict(policy_net.state_dict())\n",
    "target_net.eval() # not training but evaluation only\n",
    "optimizer = optim.Adam(params=policy_net.parameters(), lr=lr)\n",
    "\n",
    "##############################################################################\n",
    "# Training\n",
    "episode_durations = []\n",
    "for episode in range(num_episodes):\n",
    "    # for each episode, reset state and environment\n",
    "    em.reset()\n",
    "    state = em.get_state()\n",
    "    \n",
    "    for timestep in count():\n",
    "        action = agent.select_action(state, policy_net) # policy net to choose explore or exploite\n",
    "        reward = em.take_action(action)\n",
    "        next_state = em.get_state()\n",
    "        memory.push(Experience(state, action, next_state, reward))\n",
    "        state = next_state\n",
    "         \n",
    "        if memory.can_provide_sample(batch_size):\n",
    "            experiences = memory.sample(batch_size)\n",
    "            states, actions, rewards, next_states = extract_tensors(experiences)\n",
    "            \n",
    "            current_q_values = QValues.get_current(policy_net, states, actions)\n",
    "            next_q_values = QValues.get_next(target_net, next_states)\n",
    "            target_q_values = (next_q_values * gamma) + rewards\n",
    "            \n",
    "            loss = F.mse_loss(current_q_values, target_q_values.unsqueeze(1))\n",
    "            optimizer.zero_grad()\n",
    "            loss.backward()\n",
    "            optimizer.step()\n",
    "            \n",
    "        if em.done:\n",
    "            episode_durations.append(timestep)\n",
    "            plot(episode_durations, 100)\n",
    "            break\n",
    "            \n",
    "    if episode % target_update == 0:\n",
    "        target_net.load_state_dict(policy_net.state_dict())\n",
    "em.close()"
   ]
  },
  {
   "cell_type": "code",
   "execution_count": null,
   "id": "ba4e8ca6",
   "metadata": {},
   "outputs": [],
   "source": []
  }
 ],
 "metadata": {
  "kernelspec": {
   "display_name": "Python 3",
   "language": "python",
   "name": "python3"
  },
  "language_info": {
   "codemirror_mode": {
    "name": "ipython",
    "version": 3
   },
   "file_extension": ".py",
   "mimetype": "text/x-python",
   "name": "python",
   "nbconvert_exporter": "python",
   "pygments_lexer": "ipython3",
   "version": "3.8.8"
  }
 },
 "nbformat": 4,
 "nbformat_minor": 5
}
